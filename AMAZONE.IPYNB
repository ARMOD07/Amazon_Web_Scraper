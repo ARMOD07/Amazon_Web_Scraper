{
 "cells": [
  {
   "cell_type": "code",
   "execution_count": 1,
   "metadata": {},
   "outputs": [],
   "source": [
    "from bs4 import BeautifulSoup\n",
    "import requests\n",
    "import time\n",
    "import datetime\n",
    "\n",
    "import smtplib\n"
   ]
  },
  {
   "cell_type": "code",
   "execution_count": 13,
   "metadata": {},
   "outputs": [],
   "source": [
    "URL = \"https://www.amazon.com/Funny-Data-Systems-Business-Analyst/dp/B07FNW9FGJ/ref=sr_1_3?dchild=1&keywords=data%2Banalyst%2Btshirt&qid=1626655184&sr=8-3&customId=B0752XJYNL&th=1\"\n",
    "\n",
    "# headers= {\n",
    "#     'User-Agent\": \"Mozilla/5.0 (Windows NT 10.0; Win64; x64) AppleWebKit/537.36 (KHTML, like Gecko) Chrome/116.0.0.0 Safari/537.36'\n",
    "#     }\n",
    "# # \n",
    "\n",
    "\n",
    "headers = {\n",
    "    'User-Agent': 'Mozilla/5.0 (Windows NT 10.0; Win64; x64) AppleWebKit/537.36 (KHTML, like Gecko) Chrome/116.0.0.0 Safari/537.36'\n",
    "}"
   ]
  },
  {
   "cell_type": "code",
   "execution_count": 14,
   "metadata": {},
   "outputs": [],
   "source": [
    "page=requests.get(URL, headers=headers)\n",
    "\n",
    "soup1=BeautifulSoup(page.content,\"html.parser\")\n",
    "\n",
    "soup2=BeautifulSoup(soup1.prettify(),\"html.parser\")\n",
    "\n",
    "\n",
    "\n",
    "\n"
   ]
  },
  {
   "cell_type": "code",
   "execution_count": 15,
   "metadata": {},
   "outputs": [
    {
     "ename": "AttributeError",
     "evalue": "'NoneType' object has no attribute 'get_text'",
     "output_type": "error",
     "traceback": [
      "\u001b[1;31m---------------------------------------------------------------------------\u001b[0m",
      "\u001b[1;31mAttributeError\u001b[0m                            Traceback (most recent call last)",
      "\u001b[1;32mc:\\Users\\Amira\\Desktop\\AMIRA-projet\\Web Scraping\\Amazon_Web_Scraper\\AMAZONE.IPYNB Cellule 4\u001b[0m line \u001b[0;36m1\n\u001b[1;32m----> <a href='vscode-notebook-cell:/c%3A/Users/Amira/Desktop/AMIRA-projet/Web%20Scraping/Amazon_Web_Scraper/AMAZONE.IPYNB#W3sZmlsZQ%3D%3D?line=0'>1</a>\u001b[0m title \u001b[39m=\u001b[39m soup2\u001b[39m.\u001b[39;49mfind(\u001b[39mid\u001b[39;49m\u001b[39m=\u001b[39;49m\u001b[39m'\u001b[39;49m\u001b[39mproductTitle\u001b[39;49m\u001b[39m'\u001b[39;49m)\u001b[39m.\u001b[39;49mget_text()\n\u001b[0;32m      <a href='vscode-notebook-cell:/c%3A/Users/Amira/Desktop/AMIRA-projet/Web%20Scraping/Amazon_Web_Scraper/AMAZONE.IPYNB#W3sZmlsZQ%3D%3D?line=1'>2</a>\u001b[0m \u001b[39m#price = soup2.find(id=\"acrCustomerReviewText\").get_text()\u001b[39;00m\n\u001b[0;32m      <a href='vscode-notebook-cell:/c%3A/Users/Amira/Desktop/AMIRA-projet/Web%20Scraping/Amazon_Web_Scraper/AMAZONE.IPYNB#W3sZmlsZQ%3D%3D?line=2'>3</a>\u001b[0m \u001b[39m#print(price)\u001b[39;00m\n\u001b[0;32m      <a href='vscode-notebook-cell:/c%3A/Users/Amira/Desktop/AMIRA-projet/Web%20Scraping/Amazon_Web_Scraper/AMAZONE.IPYNB#W3sZmlsZQ%3D%3D?line=3'>4</a>\u001b[0m \u001b[39mprint\u001b[39m(title)\n",
      "\u001b[1;31mAttributeError\u001b[0m: 'NoneType' object has no attribute 'get_text'"
     ]
    }
   ],
   "source": [
    "title = soup2.find(id='productTitle').get_text()\n",
    "#price = soup2.find(id=\"acrCustomerReviewText\").get_text()\n",
    "#print(price)\n",
    "print(title)"
   ]
  }
 ],
 "metadata": {
  "kernelspec": {
   "display_name": "Python 3",
   "language": "python",
   "name": "python3"
  },
  "language_info": {
   "codemirror_mode": {
    "name": "ipython",
    "version": 3
   },
   "file_extension": ".py",
   "mimetype": "text/x-python",
   "name": "python",
   "nbconvert_exporter": "python",
   "pygments_lexer": "ipython3",
   "version": "3.11.2"
  }
 },
 "nbformat": 4,
 "nbformat_minor": 2
}
